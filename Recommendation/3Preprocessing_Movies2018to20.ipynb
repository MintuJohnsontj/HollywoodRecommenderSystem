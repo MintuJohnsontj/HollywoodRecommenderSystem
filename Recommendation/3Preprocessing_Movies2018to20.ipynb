{
 "cells": [
  {
   "cell_type": "markdown",
   "id": "3216fccd",
   "metadata": {},
   "source": [
    "# MOVIES OF 2018 TO 2020 "
   ]
  },
  {
   "cell_type": "code",
   "execution_count": 5,
   "id": "711ca7d4",
   "metadata": {},
   "outputs": [
    {
     "data": {
      "text/html": [
       "<div>\n",
       "<style scoped>\n",
       "    .dataframe tbody tr th:only-of-type {\n",
       "        vertical-align: middle;\n",
       "    }\n",
       "\n",
       "    .dataframe tbody tr th {\n",
       "        vertical-align: top;\n",
       "    }\n",
       "\n",
       "    .dataframe thead th {\n",
       "        text-align: right;\n",
       "    }\n",
       "</style>\n",
       "<table border=\"1\" class=\"dataframe\">\n",
       "  <thead>\n",
       "    <tr style=\"text-align: right;\">\n",
       "      <th></th>\n",
       "      <th>director_name</th>\n",
       "      <th>actor_1_name</th>\n",
       "      <th>actor_2_name</th>\n",
       "      <th>actor_3_name</th>\n",
       "      <th>genres</th>\n",
       "      <th>movie_title</th>\n",
       "    </tr>\n",
       "  </thead>\n",
       "  <tbody>\n",
       "    <tr>\n",
       "      <th>0</th>\n",
       "      <td>Adam Robitel</td>\n",
       "      <td>Lin Shaye</td>\n",
       "      <td>Angus Sampson</td>\n",
       "      <td>Leigh Whannell</td>\n",
       "      <td>Horror Mystery Thriller</td>\n",
       "      <td>insidious: the last key</td>\n",
       "    </tr>\n",
       "    <tr>\n",
       "      <th>1</th>\n",
       "      <td>Lauren Wolkstein</td>\n",
       "      <td>Alex Pettyfer</td>\n",
       "      <td>James Freedson-Jackson</td>\n",
       "      <td>Emily Althaus</td>\n",
       "      <td>Thriller Drama</td>\n",
       "      <td>the strange ones</td>\n",
       "    </tr>\n",
       "    <tr>\n",
       "      <th>2</th>\n",
       "      <td>Simon West</td>\n",
       "      <td>Dominic Cooper</td>\n",
       "      <td>Austin Stowell</td>\n",
       "      <td>Gemma Chan</td>\n",
       "      <td>Action Thriller</td>\n",
       "      <td>stratton</td>\n",
       "    </tr>\n",
       "    <tr>\n",
       "      <th>3</th>\n",
       "      <td>Warwick Thornton</td>\n",
       "      <td>Bryan Brown</td>\n",
       "      <td>Sam Neill</td>\n",
       "      <td>unknown</td>\n",
       "      <td>Drama History Western</td>\n",
       "      <td>sweet country</td>\n",
       "    </tr>\n",
       "    <tr>\n",
       "      <th>4</th>\n",
       "      <td>Jaume Collet-Serra</td>\n",
       "      <td>Liam Neeson</td>\n",
       "      <td>Vera Farmiga</td>\n",
       "      <td>Patrick Wilson</td>\n",
       "      <td>Action Thriller</td>\n",
       "      <td>the commuter</td>\n",
       "    </tr>\n",
       "    <tr>\n",
       "      <th>5</th>\n",
       "      <td>Babak Najafi</td>\n",
       "      <td>Taraji P. Henson</td>\n",
       "      <td>Billy Brown</td>\n",
       "      <td>Danny Glover</td>\n",
       "      <td>Thriller Action Crime</td>\n",
       "      <td>proud mary</td>\n",
       "    </tr>\n",
       "    <tr>\n",
       "      <th>6</th>\n",
       "      <td>Brett Donowho</td>\n",
       "      <td>Bruce Willis</td>\n",
       "      <td>Cole Hauser</td>\n",
       "      <td>Shawn Ashmore</td>\n",
       "      <td>Action</td>\n",
       "      <td>acts of violence</td>\n",
       "    </tr>\n",
       "    <tr>\n",
       "      <th>7</th>\n",
       "      <td>Trudie Styler</td>\n",
       "      <td>Alex Lawther</td>\n",
       "      <td>Abigail Breslin</td>\n",
       "      <td>Bette Midler</td>\n",
       "      <td>Comedy Drama</td>\n",
       "      <td>freak show</td>\n",
       "    </tr>\n",
       "    <tr>\n",
       "      <th>8</th>\n",
       "      <td>Sam Hoffman</td>\n",
       "      <td>Jemaine Clement</td>\n",
       "      <td>Elliott Gould</td>\n",
       "      <td>Ingrid Michaelson</td>\n",
       "      <td>Comedy</td>\n",
       "      <td>humor me</td>\n",
       "    </tr>\n",
       "    <tr>\n",
       "      <th>9</th>\n",
       "      <td>Daniela Thomas</td>\n",
       "      <td>Adriano Carvalho</td>\n",
       "      <td>Luana Nastas</td>\n",
       "      <td>unknown</td>\n",
       "      <td>Drama</td>\n",
       "      <td>vazante</td>\n",
       "    </tr>\n",
       "  </tbody>\n",
       "</table>\n",
       "</div>"
      ],
      "text/plain": [
       "        director_name      actor_1_name            actor_2_name  \\\n",
       "0        Adam Robitel         Lin Shaye           Angus Sampson   \n",
       "1    Lauren Wolkstein     Alex Pettyfer  James Freedson-Jackson   \n",
       "2          Simon West    Dominic Cooper          Austin Stowell   \n",
       "3    Warwick Thornton       Bryan Brown               Sam Neill   \n",
       "4  Jaume Collet-Serra       Liam Neeson            Vera Farmiga   \n",
       "5        Babak Najafi  Taraji P. Henson             Billy Brown   \n",
       "6       Brett Donowho      Bruce Willis             Cole Hauser   \n",
       "7       Trudie Styler      Alex Lawther         Abigail Breslin   \n",
       "8         Sam Hoffman   Jemaine Clement           Elliott Gould   \n",
       "9      Daniela Thomas  Adriano Carvalho            Luana Nastas   \n",
       "\n",
       "        actor_3_name                   genres              movie_title  \n",
       "0     Leigh Whannell  Horror Mystery Thriller  insidious: the last key  \n",
       "1      Emily Althaus           Thriller Drama         the strange ones  \n",
       "2         Gemma Chan          Action Thriller                 stratton  \n",
       "3            unknown    Drama History Western            sweet country  \n",
       "4     Patrick Wilson          Action Thriller             the commuter  \n",
       "5       Danny Glover    Thriller Action Crime               proud mary  \n",
       "6      Shawn Ashmore                   Action         acts of violence  \n",
       "7       Bette Midler             Comedy Drama               freak show  \n",
       "8  Ingrid Michaelson                   Comedy                 humor me  \n",
       "9            unknown                    Drama                  vazante  "
      ]
     },
     "execution_count": 5,
     "metadata": {},
     "output_type": "execute_result"
    }
   ],
   "source": [
    "import pandas as pd\n",
    "df1 = pd.read_csv('movies2018to20.csv')\n",
    "df1.head(10)"
   ]
  },
  {
   "cell_type": "code",
   "execution_count": 6,
   "id": "0d1e0edd",
   "metadata": {},
   "outputs": [
    {
     "data": {
      "text/plain": [
       "(755, 6)"
      ]
     },
     "execution_count": 6,
     "metadata": {},
     "output_type": "execute_result"
    }
   ],
   "source": [
    "df1.shape"
   ]
  },
  {
   "cell_type": "markdown",
   "id": "39109cfa",
   "metadata": {},
   "source": [
    "# Handling Null Values"
   ]
  },
  {
   "cell_type": "code",
   "execution_count": 7,
   "id": "9c342cb5",
   "metadata": {},
   "outputs": [
    {
     "data": {
      "text/plain": [
       "director_name    0\n",
       "actor_1_name     0\n",
       "actor_2_name     0\n",
       "actor_3_name     0\n",
       "genres           3\n",
       "movie_title      0\n",
       "dtype: int64"
      ]
     },
     "execution_count": 7,
     "metadata": {},
     "output_type": "execute_result"
    }
   ],
   "source": [
    "df1.isna().sum()"
   ]
  },
  {
   "cell_type": "code",
   "execution_count": 8,
   "id": "4b8eedeb",
   "metadata": {},
   "outputs": [
    {
     "data": {
      "text/plain": [
       "director_name    0\n",
       "actor_1_name     0\n",
       "actor_2_name     0\n",
       "actor_3_name     0\n",
       "genres           0\n",
       "movie_title      0\n",
       "dtype: int64"
      ]
     },
     "execution_count": 8,
     "metadata": {},
     "output_type": "execute_result"
    }
   ],
   "source": [
    "df1 = df1.dropna(how='any')\n",
    "df1.isna().sum()"
   ]
  },
  {
   "cell_type": "markdown",
   "id": "86019515",
   "metadata": {},
   "source": [
    "# Save the File"
   ]
  },
  {
   "cell_type": "code",
   "execution_count": 9,
   "id": "a7308d60",
   "metadata": {},
   "outputs": [],
   "source": [
    "df1.to_csv(\"prep3data.csv\", index= False)"
   ]
  },
  {
   "cell_type": "code",
   "execution_count": null,
   "id": "b3a76482",
   "metadata": {},
   "outputs": [],
   "source": []
  }
 ],
 "metadata": {
  "kernelspec": {
   "display_name": "Python 3",
   "language": "python",
   "name": "python3"
  },
  "language_info": {
   "codemirror_mode": {
    "name": "ipython",
    "version": 3
   },
   "file_extension": ".py",
   "mimetype": "text/x-python",
   "name": "python",
   "nbconvert_exporter": "python",
   "pygments_lexer": "ipython3",
   "version": "3.8.10"
  }
 },
 "nbformat": 4,
 "nbformat_minor": 5
}
